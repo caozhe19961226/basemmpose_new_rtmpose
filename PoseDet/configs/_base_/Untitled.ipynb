{
 "cells": [
  {
   "cell_type": "code",
   "execution_count": 2,
   "id": "ac1df02b-1cdc-45c7-bc87-6df156d23d48",
   "metadata": {},
   "outputs": [],
   "source": [
    "import torch"
   ]
  },
  {
   "cell_type": "code",
   "execution_count": 4,
   "id": "6528b075-9240-4245-88c5-00165be03c2d",
   "metadata": {},
   "outputs": [],
   "source": [
    "import os"
   ]
  },
  {
   "cell_type": "code",
   "execution_count": 5,
   "id": "0ee68516-79fa-4d70-a5bb-efe9cceffbe8",
   "metadata": {},
   "outputs": [],
   "source": [
    "cuda_home = os.environ.get('CUDA_HOME') or os.environ.get('CUDA_PATH')"
   ]
  },
  {
   "cell_type": "code",
   "execution_count": 6,
   "id": "dd9df303-4412-43b2-aa6d-227de307cb5a",
   "metadata": {},
   "outputs": [
    {
     "name": "stdout",
     "output_type": "stream",
     "text": [
      "None\n"
     ]
    }
   ],
   "source": [
    "print(cuda_home)"
   ]
  },
  {
   "cell_type": "code",
   "execution_count": 8,
   "id": "58d8fe85-b01e-4ba5-adfa-35aec054f42e",
   "metadata": {},
   "outputs": [
    {
     "name": "stdout",
     "output_type": "stream",
     "text": [
      "None\n"
     ]
    }
   ],
   "source": [
    "print(os.environ.get('CUDA_HOME'))"
   ]
  },
  {
   "cell_type": "code",
   "execution_count": 9,
   "id": "303aa57d-a4d9-4c1b-b8a7-db043a2cc6d0",
   "metadata": {},
   "outputs": [
    {
     "name": "stdout",
     "output_type": "stream",
     "text": [
      "None\n"
     ]
    }
   ],
   "source": [
    "print(os.environ.get('CUDA_PATH'))"
   ]
  },
  {
   "cell_type": "code",
   "execution_count": 15,
   "id": "799a4152-764e-40fb-82a0-1641a36d2bd1",
   "metadata": {},
   "outputs": [
    {
     "name": "stdout",
     "output_type": "stream",
     "text": [
      "1\n"
     ]
    }
   ],
   "source": [
    "if cuda_home and not torch.cuda.is_available():\n",
    "    print(f\"No CUDA runtime is found, using CUDA_HOME='{cuda_home}'\")\n",
    "else: print(1)"
   ]
  },
  {
   "cell_type": "code",
   "execution_count": 12,
   "id": "4a27ce64-0bf9-492d-aaf0-53d21e815a4b",
   "metadata": {},
   "outputs": [
    {
     "data": {
      "text/plain": [
       "True"
      ]
     },
     "execution_count": 12,
     "metadata": {},
     "output_type": "execute_result"
    }
   ],
   "source": [
    "torch.cuda.is_available()"
   ]
  },
  {
   "cell_type": "code",
   "execution_count": 16,
   "id": "dd477935-d13b-434e-89fb-900e245a34d7",
   "metadata": {},
   "outputs": [
    {
     "ename": "SyntaxError",
     "evalue": "cannot assign to function call (3693669246.py, line 1)",
     "output_type": "error",
     "traceback": [
      "\u001b[0;36m  File \u001b[0;32m\"/tmp/ipykernel_50168/3693669246.py\"\u001b[0;36m, line \u001b[0;32m1\u001b[0m\n\u001b[0;31m    nvcc = subprocess.check_output([which, 'nvcc'],stderr=devnull).decode().rstrip('\\r\\n'),cuda_home = os.path.dirname(os.path.dirname(nvcc))\u001b[0m\n\u001b[0m           ^\u001b[0m\n\u001b[0;31mSyntaxError\u001b[0m\u001b[0;31m:\u001b[0m cannot assign to function call\n"
     ]
    }
   ],
   "source": [
    "    if cuda_home is None:\n",
    "        # Guess #2\n",
    "        try:\n",
    "            which = 'where' if IS_WINDOWS else 'which'\n",
    "            with open(os.devnull, 'w') as devnull:\n",
    "                nvcc = subprocess.check_output([which, 'nvcc'],\n",
    "                                               stderr=devnull).decode().rstrip('\\r\\n')\n",
    "                cuda_home = os.path.dirname(os.path.dirname(nvcc))\n",
    "        except Exception:\n",
    "            # Guess #3\n",
    "            if IS_WINDOWS:\n",
    "                cuda_homes = glob.glob(\n",
    "                    'C:/Program Files/NVIDIA GPU Computing Toolkit/CUDA/v*.*')\n",
    "                if len(cuda_homes) == 0:\n",
    "                    cuda_home = ''\n",
    "                else:\n",
    "                    cuda_home = cuda_homes[0]\n",
    "            else:\n",
    "                cuda_home = '/usr/local/cuda'\n",
    "            if not os.path.exists(cuda_home):\n",
    "                cuda_home = None"
   ]
  },
  {
   "cell_type": "code",
   "execution_count": 21,
   "id": "df292b3f-3595-4af1-8768-0b46e833cd79",
   "metadata": {},
   "outputs": [
    {
     "ename": "NameError",
     "evalue": "name 'which' is not defined",
     "output_type": "error",
     "traceback": [
      "\u001b[0;31m---------------------------------------------------------------------------\u001b[0m",
      "\u001b[0;31mNameError\u001b[0m                                 Traceback (most recent call last)",
      "\u001b[0;32m/tmp/ipykernel_50168/2826936391.py\u001b[0m in \u001b[0;36m<module>\u001b[0;34m\u001b[0m\n\u001b[1;32m      1\u001b[0m \u001b[0;32mimport\u001b[0m \u001b[0msubprocess\u001b[0m\u001b[0;34m\u001b[0m\u001b[0;34m\u001b[0m\u001b[0m\n\u001b[0;32m----> 2\u001b[0;31m nvcc = subprocess.check_output([which, 'nvcc'],\n\u001b[0m\u001b[1;32m      3\u001b[0m                                                stderr=devnull).decode().rstrip('\\r\\n')\n",
      "\u001b[0;31mNameError\u001b[0m: name 'which' is not defined"
     ]
    }
   ],
   "source": [
    "import subprocess\n",
    "nvcc = subprocess.check_output([which, 'nvcc'],\n",
    "                                               stderr=devnull).decode().rstrip('\\r\\n')"
   ]
  }
 ],
 "metadata": {
  "kernelspec": {
   "display_name": "Python 3 (ipykernel)",
   "language": "python",
   "name": "python3"
  },
  "language_info": {
   "codemirror_mode": {
    "name": "ipython",
    "version": 3
   },
   "file_extension": ".py",
   "mimetype": "text/x-python",
   "name": "python",
   "nbconvert_exporter": "python",
   "pygments_lexer": "ipython3",
   "version": "3.8.10"
  }
 },
 "nbformat": 4,
 "nbformat_minor": 5
}
